{
  "nbformat": 4,
  "nbformat_minor": 0,
  "metadata": {
    "colab": {
      "provenance": [],
      "toc_visible": true
    },
    "kernelspec": {
      "name": "python3",
      "display_name": "Python 3"
    },
    "language_info": {
      "name": "python"
    }
  },
  "cells": [
    {
      "cell_type": "markdown",
      "source": [
        " Math with Python"
      ],
      "metadata": {
        "id": "btr3Uw-S8fTu"
      }
    },
    {
      "cell_type": "markdown",
      "source": [
        "1. Even Odd Vending Machine"
      ],
      "metadata": {
        "id": "Hd6KBy7x9uYk"
      }
    },
    {
      "cell_type": "code",
      "source": [
        "def even_odd(n):\n",
        "  # python built-in function is used to check\n",
        "  # if passed number is integer or not.\n",
        "\n",
        "  if not isinstance(n, int):\n",
        "    print('Please, enter only integer number: ')\n",
        "# the modulus will check if number passed to even_odd function is even or odd\n",
        "\n",
        "  if n % 2 == 0:\n",
        "    print('Even')\n",
        "    start = int(n)\n",
        "  else:\n",
        "    print('Odd')\n",
        "    start = int(n)\n",
        "\n",
        "  for i in range(start, start + 20, 2):\n",
        "    print(i)\n",
        "\n",
        "# main function\n",
        "if __name__ == '__main__':\n",
        "\n",
        "#prompts the user for input a number\n",
        "  feedMeInt = int(input('Please, input a number: '))\n",
        "  even_odd(feedMeInt)\n",
        "\n"
      ],
      "metadata": {
        "colab": {
          "base_uri": "https://localhost:8080/"
        },
        "id": "BHKynbPS99IN",
        "outputId": "559335de-ff8e-4768-f1b8-50ac928db85e"
      },
      "execution_count": null,
      "outputs": [
        {
          "output_type": "stream",
          "name": "stdout",
          "text": [
            "Please, input a number: 1\n",
            "Odd\n",
            "1\n",
            "3\n",
            "5\n",
            "7\n",
            "9\n",
            "11\n",
            "13\n",
            "15\n",
            "17\n",
            "19\n"
          ]
        }
      ]
    },
    {
      "cell_type": "markdown",
      "source": [
        "2. Exploring a Quadratic Function Visually"
      ],
      "metadata": {
        "id": "C2asidOfIhgq"
      }
    },
    {
      "cell_type": "code",
      "source": [
        "import matplotlib.pyplot as plt\n",
        "x_values = [-4, -3, -2, -1, 0, 1, 2, 3, 4, 5]\n",
        "\n",
        "# created 2 empty lists to hold the x and y values\n",
        "x_list = []\n",
        "y_list = []\n",
        "\n",
        "# iterate through x_values using for loop\n",
        "for x in x_values:\n",
        "  # plugin the x values in the quadratic equation\n",
        "  y = x**2 + 2*x +1\n",
        "\n",
        "  # Now, store the x and y values in their respective lists\n",
        "  # use python built-in append function\n",
        "  x_list.append(x)\n",
        "  y_list.append(y)\n",
        "  # Display the x and its corresponding value of y\n",
        "  print('x = {0} y = {1} '.format(x,y))\n",
        "# plotting part\n",
        "plt.plot(x_list, y_list, marker = '+')\n",
        "plt.xlabel('X')\n",
        "plt.ylabel('Y')\n",
        "plt.title('Quadratic Function Visualize')\n",
        "plt.grid(True)\n",
        "plt.show()"
      ],
      "metadata": {
        "colab": {
          "base_uri": "https://localhost:8080/",
          "height": 646
        },
        "id": "BUbQV_qCPw8o",
        "outputId": "d4f7e5f4-17cb-4654-d95e-113659b457ec"
      },
      "execution_count": null,
      "outputs": [
        {
          "output_type": "stream",
          "name": "stdout",
          "text": [
            "x = -4 y = 9 \n",
            "x = -3 y = 4 \n",
            "x = -2 y = 1 \n",
            "x = -1 y = 0 \n",
            "x = 0 y = 1 \n",
            "x = 1 y = 4 \n",
            "x = 2 y = 9 \n",
            "x = 3 y = 16 \n",
            "x = 4 y = 25 \n",
            "x = 5 y = 36 \n"
          ]
        },
        {
          "output_type": "display_data",
          "data": {
            "text/plain": [
              "<Figure size 640x480 with 1 Axes>"
            ],
            "image/png": "[encoded data removed]"
          },
          "metadata": {}
        }
      ]
    },
    {
      "cell_type": "markdown",
      "source": [
        "3. Statistics Calculator reads data from (mydata.txt)"
      ],
      "metadata": {
        "id": "J7Edw6O3_K54"
      }
    },
    {
      "cell_type": "code",
      "source": [
        "from numpy import median\n",
        "from numpy.core.fromnumeric import mean\n",
        "from collections import Counter\n",
        "import math\n",
        "\n",
        "def read_data(filename):\n",
        "\n",
        "  numbers = []\n",
        "  with open(filename) as f:\n",
        "    for line in f:\n",
        "      numbers.append(float(line))\n",
        "  return numbers\n",
        "\n",
        "def calculate_mean(numbers):\n",
        "  s = sum(numbers)\n",
        "  N = len(numbers)\n",
        "  mean = s/N\n",
        "\n",
        "  return mean\n",
        "def calculate_median(numbers):\n",
        "  N = len(numbers)\n",
        "  numbers.sort()\n",
        "\n",
        "  if N % 2 ==0:\n",
        "    # if N is even\n",
        "    m1 = N/2\n",
        "    m2 = (N/2) + 1\n",
        "    # parse to intger and subtract 1 because index starts from 0\n",
        "    m1 = int(m1) - 1\n",
        "    m2 = int(m2) - 1\n",
        "    median = (numbers[m1] + numbers[m2]) / 2\n",
        "  else:\n",
        "    m = (N + 1) / 2\n",
        "    m = int(m) - 1\n",
        "    median = numbers[m]\n",
        "\n",
        "  return median\n",
        "\n",
        "def calculate_mode(numbers):\n",
        "  c = Counter(numbers)\n",
        "  mode = c.most_common(1)\n",
        "  return mode[0][0]\n",
        "\n",
        "# finding variance involves calling two different functions they are\n",
        "#   find_differences, and calculate_mean\n",
        "# Lets start with finding differences of the numbers from the mean value\n",
        "def calculate_differences(numbers):\n",
        "  mean = calculate_mean(numbers)\n",
        "\n",
        "  # calculate the differences\n",
        "  diff = []\n",
        "  for num in numbers:\n",
        "    diff.append(num - mean)\n",
        "  return diff\n",
        "\n",
        "# calculate variance\n",
        "def calculate_variance(numbers):\n",
        "  # find the squared differences\n",
        "  diff = calculate_differences(numbers)\n",
        "  # square the differences\n",
        "  squared_diff = []\n",
        "  for d in diff:\n",
        "    squared_diff.append(d**2)\n",
        "\n",
        "    # variance\n",
        "    sum_squared_diff = sum(squared_diff)\n",
        "    vairance = sum_squared_diff/len(numbers)\n",
        "    return vairance\n",
        "def calculate_standard_dev(numbers):\n",
        "  variance = calculate_variance(numbers)\n",
        "  std = math.vairance.sqrt(variance)\n",
        "  return std\n",
        "\n",
        "#main function\n",
        "  if __main__ == '__main__':\n",
        "    numbers = read_data_text('mydata.txt')\n",
        "\n",
        "    mean = calculate_mean(numbers)\n",
        "    median = calculate_median(numbers)\n",
        "    mode = calculate_mode(numbers)\n",
        "    variance = calculate_variance(numbers)\n",
        "    std_dev = calculate_standard_dev(numbers)\n",
        "\n",
        "    print('Mean: {0}'.format(mean))\n",
        "    print('Median: {0}'.format(median))\n",
        "    print('Mode: {0}'.format(mode))\n",
        "    print('Variance: {0}'.format(variance))\n",
        "    print('Standard Deviation: {0}'.format(std_dev))\n",
        "\n"
      ],
      "metadata": {
        "id": "UcBXo_EIAjvY"
      },
      "execution_count": null,
      "outputs": []
    },
    {
      "cell_type": "markdown",
      "source": [
        "4. Law Of Large Numbers"
      ],
      "metadata": {
        "id": "0CYQdBO8g2lt"
      }
    },
    {
      "cell_type": "code",
      "source": [
        "import random\n",
        "def roll_dice(num_rolls):\n",
        "  total = 0\n",
        "\n",
        "  for roll in range(num_rolls):\n",
        "    roll = random.randint(1, 6)\n",
        "    total += roll\n",
        "  return total / num_rolls\n",
        "\n",
        "if __name__ == '__main__':\n",
        "  expected_value = 3.5\n",
        "  trials_num = [100, 1000, 10000, 100000, 500000]\n",
        "\n",
        "  print('Expected value: ', expected_value)\n",
        "\n",
        "  for trials in trials_num:\n",
        "    trial_avg = roll_dice(trials)\n",
        "    print('Trials: {0} Trial average: {1}'.format(trials, trial_avg))"
      ],
      "metadata": {
        "colab": {
          "base_uri": "https://localhost:8080/"
        },
        "id": "HUD77tqkjmyz",
        "outputId": "4897fe3c-0132-4c43-cc34-6e1ee25ecc3e"
      },
      "execution_count": null,
      "outputs": [
        {
          "output_type": "stream",
          "name": "stdout",
          "text": [
            "Expected value:  3.5\n",
            "Trials: 100 Trial average: 3.46\n",
            "Trials: 1000 Trial average: 3.488\n",
            "Trials: 10000 Trial average: 3.5133\n",
            "Trials: 100000 Trial average: 3.50901\n",
            "Trials: 500000 Trial average: 3.498584\n"
          ]
        }
      ]
    },
    {
      "cell_type": "markdown",
      "source": [
        "Implementing Gradient Descent"
      ],
      "metadata": {
        "id": "-7feJNJLqIzR"
      }
    },
    {
      "cell_type": "code",
      "source": [
        "from sympy import Derivative, Symbol, sympify\n",
        "from sympy.core.sympify import SympifyError\n",
        "import matplotlib.pyplot as plt\n",
        "import numpy as np\n",
        "\n",
        "def grad_descent(x0, f1x, x):\n",
        "  # algorithm will continue iterating untill the absolute difference between\n",
        "  #   consecutive variable values becomes smaller than'0.000001'\n",
        "  epsilon = 1e-6\n",
        "  # The step size determines how much the parameter or variable\n",
        "  #   being optimized is updated at each iteration.\n",
        "  step_size = 1e-4\n",
        "  x_old = x0\n",
        "  x_new = x_old - step_size * f1x.subs({x: x_old}).evalf()\n",
        "# store intermediate values for plotting\n",
        "  intermediate_values = [(x0, f1x.subs({x: x0}).evalf())]\n",
        "\n",
        "  while abs(x_old - x_new) > epsilon:\n",
        "    x_old = x_new\n",
        "    x_new = x_old - step_size * f1x.subs({x: x_old}).evalf()\n",
        "    intermediate_values.append((x_new, f1x.subs({x: x_new}).evalf()))\n",
        "  return x_new, intermediate_values\n",
        "\n",
        "  if __name__ == '__main__':\n",
        "    f = input('Enter a function in one variable: ')\n",
        "    var1 = input('Enter the variable to differentiate with respect to: ')\n",
        "    var2 = float(input('Enter the initial value of the variable: '))\n",
        "\n",
        "    try:\n",
        "      f = sympify(f)\n",
        "    except SympifyError:\n",
        "      print('Invalid function entered')\n",
        "    else:\n",
        "      var1 = Symbol(var1)\n",
        "      d = Derivative(f, var1).doit()\n",
        "\n",
        "      var_min, intermediate_values = grad_descent(var2, d, var1)\n",
        "      # display minimum value and plot intermediate values\n",
        "      print('{0}: {1}'.format(var1.name, var_min ))\n",
        "      print('Minimum value: {0}'.format(f.subs({var1: var_min})))\n",
        "\n",
        "      x_vals, y_vals = zip(*intermediate_values)\n",
        "      plt.plot(x_vals, y_vals, marker = '+')\n",
        "      plt.xlabel(var1.name)\n",
        "      plt.ylabel('Y: {0}'.format(var1.name))\n",
        "      plt.title(\"Gradient Descent\")\n",
        "      plt.show()"
      ],
      "metadata": {
        "id": "8dGFIurcqX4u"
      },
      "execution_count": 15,
      "outputs": []
    }
  ]
}